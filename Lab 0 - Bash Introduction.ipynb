{
 "cells": [
  {
   "cell_type": "markdown",
   "metadata": {},
   "source": [
    "# Lab 0 - Bash Introduction\n",
    "\n",
    "What is Bash? Bash is essentially a minimalist programming language used to interact with your computer. With bash you can: move, copy and delete files; download files over the internet; remote log-in to other computers; list files in a directory; and much more!\n",
    "\n",
    "But wait...can't we do all of these things easily with File Explorer (Windows) or browser? Yes, but imagine if you want to delete 500 files. Or copy 1 million files. Or download 150 files from 5 different websites. Doing this by hand would take a very long time. But, instead you can write a bash script to do this for you! Bash was how you interacted with a computer before graphical user interfaces (GUIs) were created.\n",
    "\n",
    "So let's learn some Bash!"
   ]
  },
  {
   "cell_type": "markdown",
   "metadata": {},
   "source": [
    "## 1.0 Bash Magic in Jupyter Notebook\n",
    "You can use Bash within Jupyter by precluding any code cell with a `!`"
   ]
  },
  {
   "cell_type": "code",
   "execution_count": 1,
   "metadata": {},
   "outputs": [
    {
     "name": "stdout",
     "output_type": "stream",
     "text": [
      "hello\r\n"
     ]
    }
   ],
   "source": [
    "!echo 'hello'"
   ]
  },
  {
   "cell_type": "markdown",
   "metadata": {},
   "source": [
    "`echo` is the command that will print text to the terminal."
   ]
  },
  {
   "cell_type": "markdown",
   "metadata": {},
   "source": [
    "## 2.0 `ls` Command"
   ]
  },
  {
   "cell_type": "code",
   "execution_count": 2,
   "metadata": {},
   "outputs": [
    {
     "name": "stdout",
     "output_type": "stream",
     "text": [
      "'Lab 0 - Bash Introduction.ipynb'\r\n"
     ]
    }
   ],
   "source": [
    "!ls"
   ]
  },
  {
   "cell_type": "markdown",
   "metadata": {},
   "source": [
    "`ls` will list all of the files in your current directory. We can supply options to different commands via the `-` and `--` identifiers. `-` is used for options that can be specified with a single character. You can combine multiple single character options in a single argument `-xyz`. `--` is used for \"long\" options that also may require an argument: `--start_index 5` would be an example option where we are saying we should start at the index `5`, for example.\n",
    "\n",
    "`ls` has the popular options `-l`, `-h`, `-r`, and `-t`"
   ]
  },
  {
   "cell_type": "code",
   "execution_count": 10,
   "metadata": {},
   "outputs": [
    {
     "name": "stdout",
     "output_type": "stream",
     "text": [
      "total 20K\r\n",
      "-rw-rw-r-- 1 aj aj 18K Aug 20 12:33 'Lab 0 - Bash Introduction.ipynb'\r\n"
     ]
    }
   ],
   "source": [
    "!ls -lhtr"
   ]
  },
  {
   "cell_type": "code",
   "execution_count": 8,
   "metadata": {},
   "outputs": [
    {
     "name": "stdout",
     "output_type": "stream",
     "text": [
      "LS(1)                            User Commands                           LS(1)\r\n",
      "\r\n",
      "N\bNA\bAM\bME\bE\r\n",
      "       ls - list directory contents\r\n",
      "\r\n",
      "S\bSY\bYN\bNO\bOP\bPS\bSI\bIS\bS\r\n",
      "       l\bls\bs [_\bO_\bP_\bT_\bI_\bO_\bN]... [_\bF_\bI_\bL_\bE]...\r\n",
      "\r\n",
      "D\bDE\bES\bSC\bCR\bRI\bIP\bPT\bTI\bIO\bON\bN\r\n",
      "       List  information  about  the FILEs (the current directory by default).\r\n",
      "       Sort entries alphabetically if none of -\b-c\bcf\bft\btu\buv\bvS\bSU\bUX\bX nor -\b--\b-s\bso\bor\brt\bt  is  speci‐\r\n",
      "       fied.\r\n",
      "\r\n",
      "       Mandatory  arguments  to  long  options are mandatory for short options\r\n",
      "       too.\r\n",
      "\r\n",
      "       -\b-a\ba, -\b--\b-a\bal\bll\bl\r\n",
      "              do not ignore entries starting with .\r\n",
      "\r\n",
      "       -\b-A\bA, -\b--\b-a\bal\blm\bmo\bos\bst\bt-\b-a\bal\bll\bl\r\n",
      "              do not list implied . and ..\r\n",
      "\r\n",
      "       -\b--\b-a\bau\but\bth\bho\bor\br\r\n",
      "              with -\b-l\bl, print the author of each file\r\n",
      "\r\n",
      "       -\b-b\bb, -\b--\b-e\bes\bsc\bca\bap\bpe\be\r\n",
      "              print C-style escapes for nongraphic characters\r\n",
      "\r\n",
      "       -\b--\b-b\bbl\blo\boc\bck\bk-\b-s\bsi\biz\bze\be=_\bS_\bI_\bZ_\bE\r\n",
      "              scale sizes by SIZE before printing them; e.g., '--block-size=M'\r\n",
      "              prints sizes in units of 1,048,576 bytes; see SIZE format below\r\n",
      "\r\n",
      "       -\b-B\bB, -\b--\b-i\big\bgn\bno\bor\bre\be-\b-b\bba\bac\bck\bku\bup\bps\bs\r\n",
      "              do not list implied entries ending with ~\r\n",
      "\r\n",
      "       -\b-c\bc     with -\b-l\blt\bt: sort by, and show, ctime (time of last modification of\r\n",
      "              file status information); with -\b-l\bl: show ctime and sort by  name;\r\n",
      "              otherwise: sort by ctime, newest first\r\n",
      "\r\n",
      "       -\b-C\bC     list entries by columns\r\n",
      "\r\n",
      "       -\b--\b-c\bco\bol\blo\bor\br[=_\bW_\bH_\bE_\bN]\r\n",
      "              colorize  the output; WHEN can be 'always' (default if omitted),\r\n",
      "              'auto', or 'never'; more info below\r\n",
      "\r\n",
      "       -\b-d\bd, -\b--\b-d\bdi\bir\bre\bec\bct\bto\bor\bry\by\r\n",
      "              list directories themselves, not their contents\r\n",
      "\r\n",
      "       -\b-D\bD, -\b--\b-d\bdi\bir\bre\bed\bd\r\n",
      "              generate output designed for Emacs' dired mode\r\n",
      "\r\n",
      "       -\b-f\bf     do not sort, enable -\b-a\baU\bU, disable -\b-l\bls\bs -\b--\b-c\bco\bol\blo\bor\br\r\n",
      "\r\n",
      "       -\b-F\bF, -\b--\b-c\bcl\bla\bas\bss\bsi\bif\bfy\by\r\n",
      "              append indicator (one of */=>@|) to entries\r\n",
      "\r\n",
      "       -\b--\b-f\bfi\bil\ble\be-\b-t\bty\byp\bpe\be\r\n",
      "              likewise, except do not append '*'\r\n",
      "\r\n",
      "       -\b--\b-f\bfo\bor\brm\bma\bat\bt=_\bW_\bO_\bR_\bD\r\n",
      "              across -\b-x\bx, commas -\b-m\bm, horizontal -\b-x\bx, long -\b-l\bl, single-column  -\b-1\b1,\r\n",
      "              verbose -\b-l\bl, vertical -\b-C\bC\r\n",
      "\r\n",
      "       -\b--\b-f\bfu\bul\bll\bl-\b-t\bti\bim\bme\be\r\n",
      "              like -\b-l\bl -\b--\b-t\bti\bim\bme\be-\b-s\bst\bty\byl\ble\be=_\bf_\bu_\bl_\bl_\b-_\bi_\bs_\bo\r\n",
      "\r\n",
      "       -\b-g\bg     like -\b-l\bl, but do not list owner\r\n",
      "\r\n",
      "       -\b--\b-g\bgr\bro\bou\bup\bp-\b-d\bdi\bir\bre\bec\bct\bto\bor\bri\bie\bes\bs-\b-f\bfi\bir\brs\bst\bt\r\n",
      "              group directories before files;\r\n",
      "\r\n",
      "              can   be  augmented  with  a  -\b--\b-s\bso\bor\brt\bt  option,  but  any  use  of\r\n",
      "              -\b--\b-s\bso\bor\brt\bt=_\bn_\bo_\bn_\be (-\b-U\bU) disables grouping\r\n",
      "\r\n",
      "       -\b-G\bG, -\b--\b-n\bno\bo-\b-g\bgr\bro\bou\bup\bp\r\n",
      "              in a long listing, don't print group names\r\n",
      "\r\n",
      "       -\b-h\bh, -\b--\b-h\bhu\bum\bma\ban\bn-\b-r\bre\bea\bad\bda\bab\bbl\ble\be\r\n",
      "              with -\b-l\bl and/or -\b-s\bs, print human readable sizes (e.g., 1K 234M 2G)\r\n",
      "\r\n",
      "       -\b--\b-s\bsi\bi   likewise, but use powers of 1000 not 1024\r\n",
      "\r\n",
      "       -\b-H\bH, -\b--\b-d\bde\ber\bre\bef\bfe\ber\bre\ben\bnc\bce\be-\b-c\bco\bom\bmm\bma\ban\bnd\bd-\b-l\bli\bin\bne\be\r\n",
      "              follow symbolic links listed on the command line\r\n",
      "\r\n",
      "       -\b--\b-d\bde\ber\bre\bef\bfe\ber\bre\ben\bnc\bce\be-\b-c\bco\bom\bmm\bma\ban\bnd\bd-\b-l\bli\bin\bne\be-\b-s\bsy\bym\bml\bli\bin\bnk\bk-\b-t\bto\bo-\b-d\bdi\bir\br\r\n",
      "              follow each command line symbolic link\r\n",
      "\r\n",
      "              that points to a directory\r\n",
      "\r\n",
      "       -\b--\b-h\bhi\bid\bde\be=_\bP_\bA_\bT_\bT_\bE_\bR_\bN\r\n",
      "              do not list implied entries matching shell  PATTERN  (overridden\r\n",
      "              by -\b-a\ba or -\b-A\bA)\r\n",
      "\r\n",
      "       -\b--\b-h\bhy\byp\bpe\ber\brl\bli\bin\bnk\bk[=_\bW_\bH_\bE_\bN]\r\n",
      "              hyperlink file names; WHEN can be 'always' (default if omitted),\r\n",
      "              'auto', or 'never'\r\n",
      "\r\n",
      "       -\b--\b-i\bin\bnd\bdi\bic\bca\bat\bto\bor\br-\b-s\bst\bty\byl\ble\be=_\bW_\bO_\bR_\bD\r\n",
      "              append indicator with style WORD to entry names: none (default),\r\n",
      "              slash (-\b-p\bp), file-type (-\b--\b-f\bfi\bil\ble\be-\b-t\bty\byp\bpe\be), classify (-\b-F\bF)\r\n",
      "\r\n",
      "       -\b-i\bi, -\b--\b-i\bin\bno\bod\bde\be\r\n",
      "              print the index number of each file\r\n",
      "\r\n",
      "       -\b-I\bI, -\b--\b-i\big\bgn\bno\bor\bre\be=_\bP_\bA_\bT_\bT_\bE_\bR_\bN\r\n",
      "              do not list implied entries matching shell PATTERN\r\n",
      "\r\n",
      "       -\b-k\bk, -\b--\b-k\bki\bib\bbi\bib\bby\byt\bte\bes\bs\r\n",
      "              default to 1024-byte blocks for disk usage\r\n",
      "\r\n",
      "       -\b-l\bl     use a long listing format\r\n",
      "\r\n",
      "       -\b-L\bL, -\b--\b-d\bde\ber\bre\bef\bfe\ber\bre\ben\bnc\bce\be\r\n",
      "              when showing file information for a symbolic link, show informa‐\r\n",
      "              tion for the file the link references rather than for  the  link\r\n",
      "              itself\r\n",
      "\r\n",
      "       -\b-m\bm     fill width with a comma separated list of entries\r\n",
      "\r\n",
      "       -\b-n\bn, -\b--\b-n\bnu\bum\bme\ber\bri\bic\bc-\b-u\bui\bid\bd-\b-g\bgi\bid\bd\r\n",
      "              like -\b-l\bl, but list numeric user and group IDs\r\n",
      "\r\n",
      "       -\b-N\bN, -\b--\b-l\bli\bit\bte\ber\bra\bal\bl\r\n",
      "              print entry names without quoting\r\n",
      "\r\n",
      "       -\b-o\bo     like -\b-l\bl, but do not list group information\r\n",
      "\r\n",
      "       -\b-p\bp, -\b--\b-i\bin\bnd\bdi\bic\bca\bat\bto\bor\br-\b-s\bst\bty\byl\ble\be=_\bs_\bl_\ba_\bs_\bh\r\n",
      "              append / indicator to directories\r\n",
      "\r\n",
      "       -\b-q\bq, -\b--\b-h\bhi\bid\bde\be-\b-c\bco\bon\bnt\btr\bro\bol\bl-\b-c\bch\bha\bar\brs\bs\r\n",
      "              print ? instead of nongraphic characters\r\n",
      "\r\n",
      "       -\b--\b-s\bsh\bho\bow\bw-\b-c\bco\bon\bnt\btr\bro\bol\bl-\b-c\bch\bha\bar\brs\bs\r\n",
      "              show nongraphic characters as-is (the default, unless program is\r\n",
      "              'ls' and output is a terminal)\r\n",
      "\r\n",
      "       -\b-Q\bQ, -\b--\b-q\bqu\buo\bot\bte\be-\b-n\bna\bam\bme\be\r\n",
      "              enclose entry names in double quotes\r\n",
      "\r\n",
      "       -\b--\b-q\bqu\buo\bot\bti\bin\bng\bg-\b-s\bst\bty\byl\ble\be=_\bW_\bO_\bR_\bD\r\n",
      "              use quoting style WORD for entry names: literal, locale,  shell,\r\n",
      "              shell-always, shell-escape, shell-escape-always, c, escape\r\n",
      "\r\n",
      "       -\b-r\br, -\b--\b-r\bre\bev\bve\ber\brs\bse\be\r\n",
      "              reverse order while sorting\r\n",
      "\r\n",
      "       -\b-R\bR, -\b--\b-r\bre\bec\bcu\bur\brs\bsi\biv\bve\be\r\n",
      "              list subdirectories recursively\r\n",
      "\r\n",
      "       -\b-s\bs, -\b--\b-s\bsi\biz\bze\be\r\n",
      "              print the allocated size of each file, in blocks\r\n",
      "\r\n",
      "       -\b-S\bS     sort by file size, largest first\r\n",
      "\r\n",
      "       -\b--\b-s\bso\bor\brt\bt=_\bW_\bO_\bR_\bD\r\n",
      "              sort  by  WORD instead of name: none (-\b-U\bU), size (-\b-S\bS), time (-\b-t\bt),\r\n",
      "              version (-\b-v\bv), extension (-\b-X\bX)\r\n",
      "\r\n",
      "       -\b--\b-t\bti\bim\bme\be=_\bW_\bO_\bR_\bD\r\n",
      "              with -\b-l\bl, show time as WORD instead of default modification time:\r\n",
      "              atime  or  access  or  use  (-\b-u\bu); ctime or status (-\b-c\bc); also use\r\n",
      "              specified time as sort key if -\b--\b-s\bso\bor\brt\bt=_\bt_\bi_\bm_\be (newest first)\r\n",
      "\r\n",
      "       -\b--\b-t\bti\bim\bme\be-\b-s\bst\bty\byl\ble\be=_\bS_\bT_\bY_\bL_\bE\r\n",
      "              with -\b-l\bl, show times using style STYLE: full-iso, long-iso,  iso,\r\n",
      "              locale,  or  +FORMAT;  FORMAT  is interpreted like in 'date'; if\r\n",
      "              FORMAT  is  FORMAT1<newline>FORMAT2,  then  FORMAT1  applies  to\r\n",
      "              non-recent  files  and FORMAT2 to recent files; if STYLE is pre‐\r\n",
      "              fixed with 'posix-', STYLE takes effect only outside  the  POSIX\r\n",
      "              locale\r\n",
      "\r\n",
      "       -\b-t\bt     sort by modification time, newest first\r\n",
      "\r\n",
      "       -\b-T\bT, -\b--\b-t\bta\bab\bbs\bsi\biz\bze\be=_\bC_\bO_\bL_\bS\r\n",
      "              assume tab stops at each COLS instead of 8\r\n",
      "\r\n",
      "       -\b-u\bu     with  -\b-l\blt\bt:  sort by, and show, access time; with -\b-l\bl: show access\r\n",
      "              time and sort by name; otherwise: sort by  access  time,  newest\r\n",
      "              first\r\n",
      "\r\n",
      "       -\b-U\bU     do not sort; list entries in directory order\r\n",
      "\r\n",
      "       -\b-v\bv     natural sort of (version) numbers within text\r\n",
      "\r\n",
      "       -\b-w\bw, -\b--\b-w\bwi\bid\bdt\bth\bh=_\bC_\bO_\bL_\bS\r\n",
      "              set output width to COLS.  0 means no limit\r\n",
      "\r\n",
      "       -\b-x\bx     list entries by lines instead of by columns\r\n",
      "\r\n",
      "       -\b-X\bX     sort alphabetically by entry extension\r\n",
      "\r\n",
      "       -\b-Z\bZ, -\b--\b-c\bco\bon\bnt\bte\bex\bxt\bt\r\n",
      "              print any security context of each file\r\n",
      "\r\n",
      "       -\b-1\b1     list one file per line.  Avoid '\\n' with -\b-q\bq or -\b-b\bb\r\n",
      "\r\n",
      "       -\b--\b-h\bhe\bel\blp\bp display this help and exit\r\n",
      "\r\n",
      "       -\b--\b-v\bve\ber\brs\bsi\bio\bon\bn\r\n",
      "              output version information and exit\r\n",
      "\r\n",
      "       The  SIZE  argument  is  an  integer and optional unit (example: 10K is\r\n",
      "       10*1024).  Units are K,M,G,T,P,E,Z,Y  (powers  of  1024)  or  KB,MB,...\r\n",
      "       (powers of 1000).\r\n",
      "\r\n",
      "       Using  color  to distinguish file types is disabled both by default and\r\n",
      "       with -\b--\b-c\bco\bol\blo\bor\br=_\bn_\be_\bv_\be_\br.  With -\b--\b-c\bco\bol\blo\bor\br=_\ba_\bu_\bt_\bo, ls emits color codes only  when\r\n",
      "       standard  output is connected to a terminal.  The LS_COLORS environment\r\n",
      "       variable can change the settings.  Use the dircolors command to set it.\r\n",
      "\r\n",
      "   E\bEx\bxi\bit\bt s\bst\bta\bat\btu\bus\bs:\b:\r\n",
      "       0      if OK,\r\n",
      "\r\n",
      "       1      if minor problems (e.g., cannot access subdirectory),\r\n",
      "\r\n",
      "       2      if serious trouble (e.g., cannot access command-line argument).\r\n",
      "\r\n",
      "A\bAU\bUT\bTH\bHO\bOR\bR\r\n",
      "       Written by Richard M. Stallman and David MacKenzie.\r\n",
      "\r\n",
      "R\bRE\bEP\bPO\bOR\bRT\bTI\bIN\bNG\bG B\bBU\bUG\bGS\bS\r\n",
      "       GNU coreutils online help: <http://www.gnu.org/software/coreutils/>\r\n",
      "       Report ls translation bugs to <http://translationproject.org/team/>\r\n",
      "\r\n",
      "C\bCO\bOP\bPY\bYR\bRI\bIG\bGH\bHT\bT\r\n",
      "       Copyright © 2017 Free Software Foundation, Inc.   License  GPLv3+:  GNU\r\n",
      "       GPL version 3 or later <http://gnu.org/licenses/gpl.html>.\r\n",
      "       This  is  free  software:  you  are free to change and redistribute it.\r\n",
      "       There is NO WARRANTY, to the extent permitted by law.\r\n",
      "\r\n",
      "S\bSE\bEE\bE A\bAL\bLS\bSO\bO\r\n",
      "       Full documentation at: <http://www.gnu.org/software/coreutils/ls>\r\n",
      "       or available locally via: info '(coreutils) ls invocation'\r\n",
      "\r\n",
      "GNU coreutils 8.28               January 2018                            LS(1)\r\n"
     ]
    }
   ],
   "source": [
    "!man ls"
   ]
  },
  {
   "cell_type": "markdown",
   "metadata": {},
   "source": [
    "The `man` command supplies the manual for any command and is a very useful tool when you want to learn about the specifics of a certain command."
   ]
  },
  {
   "cell_type": "markdown",
   "metadata": {},
   "source": [
    "## 3.0 `cd` Command\n",
    "`cd` stands for change directory. This is how we navigate through our company into different folders/directories."
   ]
  },
  {
   "cell_type": "code",
   "execution_count": 20,
   "metadata": {},
   "outputs": [
    {
     "name": "stdout",
     "output_type": "stream",
     "text": [
      "notebooks\r\n"
     ]
    }
   ],
   "source": [
    "!cd ../; ls"
   ]
  },
  {
   "cell_type": "markdown",
   "metadata": {},
   "source": [
    "`../` tells you to move backwards a directory. `./` or simply `.` is the current directory you are at. The `;` tells me we are finished running that command and want to run a new command after that. So you can see we moved to the parent directory that this Jupyter Notebook resides in and listed the files in that new directory. In an actual terminal, you would now move into this directory. However, in Jupyter you will remain in the directory the Jupyter Notebook resides in, so `cd` is kind of useless while working within Jupyter Notebook."
   ]
  },
  {
   "cell_type": "markdown",
   "metadata": {},
   "source": [
    "## 4.0 `mkdir` Command\n",
    "This command will make a new directory for you."
   ]
  },
  {
   "cell_type": "code",
   "execution_count": 92,
   "metadata": {
    "scrolled": false
   },
   "outputs": [],
   "source": [
    "!mkdir my_directory"
   ]
  },
  {
   "cell_type": "code",
   "execution_count": 93,
   "metadata": {},
   "outputs": [
    {
     "name": "stdout",
     "output_type": "stream",
     "text": [
      "total 36K\r\n",
      "-rw-rw-r-- 1 aj aj  31K Aug 20 16:02 'Lab 0 - Bash Introduction.ipynb'\r\n",
      "drwxrwxr-x 2 aj aj 4.0K Aug 20 16:02  my_directory\r\n"
     ]
    }
   ],
   "source": [
    "!ls -lhtr"
   ]
  },
  {
   "cell_type": "code",
   "execution_count": 94,
   "metadata": {},
   "outputs": [],
   "source": [
    "!cd my_directory; ls"
   ]
  },
  {
   "cell_type": "markdown",
   "metadata": {},
   "source": [
    "We can see that nothing is inside our new directory, so let's add some files into our new directory!"
   ]
  },
  {
   "cell_type": "markdown",
   "metadata": {},
   "source": [
    "## 5.0 `touch` Command\n",
    "The `touch` command will touch a file and show that it has been modified (without changing any of the files contents, however!) or if no file exists it will create a new file."
   ]
  },
  {
   "cell_type": "code",
   "execution_count": 95,
   "metadata": {},
   "outputs": [],
   "source": [
    "!touch a\n",
    "!touch b\n",
    "!touch c"
   ]
  },
  {
   "cell_type": "code",
   "execution_count": 96,
   "metadata": {},
   "outputs": [
    {
     "name": "stdout",
     "output_type": "stream",
     "text": [
      "total 36K\r\n",
      "-rw-rw-r-- 1 aj aj  31K Aug 20 16:02 'Lab 0 - Bash Introduction.ipynb'\r\n",
      "drwxrwxr-x 2 aj aj 4.0K Aug 20 16:02  my_directory\r\n",
      "-rw-rw-r-- 1 aj aj    0 Aug 20 16:02  a\r\n",
      "-rw-rw-r-- 1 aj aj    0 Aug 20 16:02  b\r\n",
      "-rw-rw-r-- 1 aj aj    0 Aug 20 16:02  c\r\n"
     ]
    }
   ],
   "source": [
    "!ls -lhtr"
   ]
  },
  {
   "cell_type": "code",
   "execution_count": 97,
   "metadata": {},
   "outputs": [],
   "source": [
    "!touch my_directory"
   ]
  },
  {
   "cell_type": "code",
   "execution_count": 98,
   "metadata": {},
   "outputs": [
    {
     "name": "stdout",
     "output_type": "stream",
     "text": [
      "total 36K\r\n",
      "-rw-rw-r-- 1 aj aj  31K Aug 20 16:02 'Lab 0 - Bash Introduction.ipynb'\r\n",
      "-rw-rw-r-- 1 aj aj    0 Aug 20 16:02  a\r\n",
      "-rw-rw-r-- 1 aj aj    0 Aug 20 16:02  b\r\n",
      "-rw-rw-r-- 1 aj aj    0 Aug 20 16:02  c\r\n",
      "drwxrwxr-x 2 aj aj 4.0K Aug 20 16:02  my_directory\r\n"
     ]
    }
   ],
   "source": [
    "!ls -lhtr"
   ]
  },
  {
   "cell_type": "markdown",
   "metadata": {},
   "source": [
    "`touch` is also useful to check permissions. You can try touching files/directories to see if you have the correct permissions to touch them. `/` is the root directory for the entire computer! Lots of things in here we cannot touch..."
   ]
  },
  {
   "cell_type": "code",
   "execution_count": 99,
   "metadata": {},
   "outputs": [
    {
     "name": "stdout",
     "output_type": "stream",
     "text": [
      "bin    dev   initrd.img      lib64\t mnt   root  snap      sys  var\r\n",
      "boot   etc   initrd.img.old  lost+found  opt   run   srv       tmp  vmlinuz\r\n",
      "cdrom  home  lib\t     media\t proc  sbin  swapfile  usr  vmlinuz.old\r\n"
     ]
    }
   ],
   "source": [
    "!ls /"
   ]
  },
  {
   "cell_type": "code",
   "execution_count": 100,
   "metadata": {},
   "outputs": [
    {
     "name": "stdout",
     "output_type": "stream",
     "text": [
      "touch: setting times of '/usr': Permission denied\r\n"
     ]
    }
   ],
   "source": [
    "!touch /usr"
   ]
  },
  {
   "cell_type": "code",
   "execution_count": 101,
   "metadata": {},
   "outputs": [],
   "source": [
    "!touch /home/aj/"
   ]
  },
  {
   "cell_type": "markdown",
   "metadata": {},
   "source": [
    "I can touch my home directory! You'll have to put the name of your own home directory there."
   ]
  },
  {
   "cell_type": "markdown",
   "metadata": {},
   "source": [
    "### Exercise: What is the name of your home directory? Use cd, ls, and touch to try finding your home directory!"
   ]
  },
  {
   "cell_type": "code",
   "execution_count": 102,
   "metadata": {},
   "outputs": [],
   "source": [
    "# Put solution here!\n"
   ]
  },
  {
   "cell_type": "markdown",
   "metadata": {},
   "source": [
    "# 6.0 `cat` Command\n",
    "`cat` can be used to view the contents of a file. `echo 'some text' > file_name` is a way to input the text `some text` into the file `file_name`. The key operand being used here is the `>` operand which tells us to put something into a file."
   ]
  },
  {
   "cell_type": "code",
   "execution_count": 103,
   "metadata": {},
   "outputs": [],
   "source": [
    "!echo \"To be or not to be\" > a"
   ]
  },
  {
   "cell_type": "code",
   "execution_count": 104,
   "metadata": {},
   "outputs": [
    {
     "name": "stdout",
     "output_type": "stream",
     "text": [
      "To be or not to be\r\n"
     ]
    }
   ],
   "source": [
    "!cat a"
   ]
  },
  {
   "cell_type": "code",
   "execution_count": 105,
   "metadata": {},
   "outputs": [],
   "source": [
    "!cat a > b"
   ]
  },
  {
   "cell_type": "code",
   "execution_count": 106,
   "metadata": {},
   "outputs": [
    {
     "name": "stdout",
     "output_type": "stream",
     "text": [
      "To be or not to be\r\n"
     ]
    }
   ],
   "source": [
    "!cat b"
   ]
  },
  {
   "cell_type": "markdown",
   "metadata": {},
   "source": [
    "# 7.0 `mv` Command\n",
    "The `mv` command is used to move or rename files. We can rename a file by simply \"moving\" it to a new file. Let's rename some files and move them into our new directory `my_directory`!"
   ]
  },
  {
   "cell_type": "code",
   "execution_count": 107,
   "metadata": {},
   "outputs": [
    {
     "name": "stdout",
     "output_type": "stream",
     "text": [
      "total 44K\r\n",
      "-rw-rw-r-- 1 aj aj  31K Aug 20 16:02 'Lab 0 - Bash Introduction.ipynb'\r\n",
      "-rw-rw-r-- 1 aj aj    0 Aug 20 16:02  c\r\n",
      "drwxrwxr-x 2 aj aj 4.0K Aug 20 16:02  my_directory\r\n",
      "-rw-rw-r-- 1 aj aj   19 Aug 20 16:02  a\r\n",
      "-rw-rw-r-- 1 aj aj   19 Aug 20 16:02  b\r\n"
     ]
    }
   ],
   "source": [
    "!ls -lhtr"
   ]
  },
  {
   "cell_type": "code",
   "execution_count": 108,
   "metadata": {},
   "outputs": [],
   "source": [
    "!mv a 'shakespeare_original.txt'"
   ]
  },
  {
   "cell_type": "code",
   "execution_count": 109,
   "metadata": {},
   "outputs": [],
   "source": [
    "!mv b 'shakespeare_copy.txt'"
   ]
  },
  {
   "cell_type": "code",
   "execution_count": 110,
   "metadata": {},
   "outputs": [
    {
     "name": "stdout",
     "output_type": "stream",
     "text": [
      "total 44K\r\n",
      "-rw-rw-r-- 1 aj aj  31K Aug 20 16:02 'Lab 0 - Bash Introduction.ipynb'\r\n",
      "-rw-rw-r-- 1 aj aj    0 Aug 20 16:02  c\r\n",
      "drwxrwxr-x 2 aj aj 4.0K Aug 20 16:02  my_directory\r\n",
      "-rw-rw-r-- 1 aj aj   19 Aug 20 16:02  shakespeare_original.txt\r\n",
      "-rw-rw-r-- 1 aj aj   19 Aug 20 16:02  shakespeare_copy.txt\r\n"
     ]
    }
   ],
   "source": [
    "!ls -lhtr"
   ]
  },
  {
   "cell_type": "code",
   "execution_count": 111,
   "metadata": {},
   "outputs": [],
   "source": [
    "!mv ./shakespeare_original.txt ./my_directory/shakespeare_original.txt\n",
    "!mv ./shakespeare_copy.txt ./my_directory/shakespeare_copy.txt"
   ]
  },
  {
   "cell_type": "code",
   "execution_count": 112,
   "metadata": {},
   "outputs": [
    {
     "name": "stdout",
     "output_type": "stream",
     "text": [
      "total 8.0K\r\n",
      "-rw-rw-r-- 1 aj aj 19 Aug 20 16:02 shakespeare_original.txt\r\n",
      "-rw-rw-r-- 1 aj aj 19 Aug 20 16:02 shakespeare_copy.txt\r\n"
     ]
    }
   ],
   "source": [
    "!cd my_directory/; ls -lhtr"
   ]
  },
  {
   "cell_type": "code",
   "execution_count": 113,
   "metadata": {},
   "outputs": [
    {
     "name": "stdout",
     "output_type": "stream",
     "text": [
      "total 36K\r\n",
      "-rw-rw-r-- 1 aj aj  31K Aug 20 16:02 'Lab 0 - Bash Introduction.ipynb'\r\n",
      "-rw-rw-r-- 1 aj aj    0 Aug 20 16:02  c\r\n",
      "drwxrwxr-x 2 aj aj 4.0K Aug 20 16:02  my_directory\r\n"
     ]
    }
   ],
   "source": [
    "!ls -lhtr"
   ]
  },
  {
   "cell_type": "markdown",
   "metadata": {},
   "source": [
    "# 8.0 `cp` Command\n",
    "The `cp` command can be used to copy a file into a new file: `cp filename_to_be_copied new_name_of_file`. The `-r` option can be passed whenever you want to copy a bunch of files. The `*` wildcard can be used if you don't care about that part of the file name. So `*.txt` would select for all files that end in \".txt\". Similarly, `shakespeare*` will grab all files that begin with \"shakespeare\". Lastly, `*apple*` will grab all files that contain the sequence of characters \"apple\"."
   ]
  },
  {
   "cell_type": "code",
   "execution_count": 114,
   "metadata": {},
   "outputs": [],
   "source": [
    "!mv c ./my_directory/"
   ]
  },
  {
   "cell_type": "code",
   "execution_count": 115,
   "metadata": {},
   "outputs": [],
   "source": [
    "!cp ./my_directory/c d"
   ]
  },
  {
   "cell_type": "code",
   "execution_count": 116,
   "metadata": {},
   "outputs": [],
   "source": [
    "!cp -r ./my_directory/shakespeare* ."
   ]
  },
  {
   "cell_type": "code",
   "execution_count": 117,
   "metadata": {},
   "outputs": [
    {
     "name": "stdout",
     "output_type": "stream",
     "text": [
      "total 44K\r\n",
      "-rw-rw-r-- 1 aj aj  31K Aug 20 16:02 'Lab 0 - Bash Introduction.ipynb'\r\n",
      "drwxrwxr-x 2 aj aj 4.0K Aug 20 16:02  \u001b[0m\u001b[01;34mmy_directory\u001b[0m/\r\n",
      "-rw-rw-r-- 1 aj aj    0 Aug 20 16:02  d\r\n",
      "-rw-rw-r-- 1 aj aj   19 Aug 20 16:03  shakespeare_original.txt\r\n",
      "-rw-rw-r-- 1 aj aj   19 Aug 20 16:03  shakespeare_copy.txt\r\n"
     ]
    }
   ],
   "source": [
    "ls -lhtr"
   ]
  },
  {
   "cell_type": "code",
   "execution_count": 118,
   "metadata": {},
   "outputs": [],
   "source": [
    "!cat d"
   ]
  },
  {
   "cell_type": "code",
   "execution_count": 119,
   "metadata": {},
   "outputs": [
    {
     "name": "stdout",
     "output_type": "stream",
     "text": [
      "To be or not to be\r\n"
     ]
    }
   ],
   "source": [
    "!cat shakespeare_copy.txt"
   ]
  },
  {
   "cell_type": "markdown",
   "metadata": {},
   "source": [
    "# 9.0 `rm` Command\n",
    "The `rm` command can be used to remove files and directories. Whenever removing multiple files or directories you need to supply the `-r` option."
   ]
  },
  {
   "cell_type": "code",
   "execution_count": 120,
   "metadata": {},
   "outputs": [],
   "source": [
    "!rm -r my_directory/"
   ]
  },
  {
   "cell_type": "code",
   "execution_count": 121,
   "metadata": {},
   "outputs": [],
   "source": [
    "!rm shakespeare_copy.txt"
   ]
  },
  {
   "cell_type": "code",
   "execution_count": 122,
   "metadata": {},
   "outputs": [
    {
     "name": "stdout",
     "output_type": "stream",
     "text": [
      "total 36K\r\n",
      "-rw-rw-r-- 1 aj aj 31K Aug 20 16:02 'Lab 0 - Bash Introduction.ipynb'\r\n",
      "-rw-rw-r-- 1 aj aj   0 Aug 20 16:02  d\r\n",
      "-rw-rw-r-- 1 aj aj  19 Aug 20 16:03  shakespeare_original.txt\r\n"
     ]
    }
   ],
   "source": [
    "!ls -lhtr"
   ]
  },
  {
   "cell_type": "markdown",
   "metadata": {},
   "source": [
    "# 10.0 `ssh` and `scp` Command\n",
    "The `ssh` command is used to remotely connect to a computer. We will be leveraging a supercomputer here at Purdue for this research. However, to use this supercomputer we will need to remotely log into it via `ssh`. This is not possible within Jupyter Notebook, however I will still list the relevant commands.\n",
    "\n",
    "To log into Scholar, you will need to use your BoilerKey 2-factor authentication process. So please make sure you have that readily available. If you are using Windows 10 and have the April 2018 update installed you will be able to use the `ssh` command using the installed PowerShell program. If you have a Mac/Linux/Ubuntu machine you can just open a terminal and use the `ssh` command."
   ]
  },
  {
   "cell_type": "code",
   "execution_count": 37,
   "metadata": {
    "scrolled": true
   },
   "outputs": [
    {
     "name": "stdout",
     "output_type": "stream",
     "text": [
      "\n",
      "************************************************************\n",
      "\n",
      "***** Use of Purdue BoilerKey or SSH keys is Required ******\n",
      "\n",
      "************************************************************\n",
      "\n",
      "Password: \n"
     ]
    }
   ],
   "source": [
    "!ssh awildrid@scholar.rcac.purdue.edu"
   ]
  },
  {
   "cell_type": "markdown",
   "metadata": {},
   "source": [
    "You will need to replace `awildrid` with your own Purdue username. Once you have successfully logged into your session on Scholar try using the aforementioned commands to play around and become familiar with your home directory on Scholar.\n",
    "\n",
    "If you have a local computer with bash you can transfer files from Scholar via the command:"
   ]
  },
  {
   "cell_type": "code",
   "execution_count": 123,
   "metadata": {},
   "outputs": [
    {
     "name": "stdout",
     "output_type": "stream",
     "text": [
      "\n",
      "************************************************************\n",
      "\n",
      "***** Use of Purdue BoilerKey or SSH keys is Required ******\n",
      "\n",
      "************************************************************\n",
      "\n",
      "Password: \n"
     ]
    }
   ],
   "source": [
    "!scp awildrid@scholar.rcac.purdue.edu:~/path/to/file/filename.extension /location/to/store/file/locally/"
   ]
  },
  {
   "cell_type": "markdown",
   "metadata": {},
   "source": [
    "`~/` is a shortcut for the home directory. This points to `/home/username/` for most cases."
   ]
  },
  {
   "cell_type": "code",
   "execution_count": 124,
   "metadata": {},
   "outputs": [
    {
     "name": "stdout",
     "output_type": "stream",
     "text": [
      "/home/aj\r\n"
     ]
    }
   ],
   "source": [
    "!cd ~/; pwd"
   ]
  },
  {
   "cell_type": "markdown",
   "metadata": {},
   "source": [
    "`pwd` prints where you currently are."
   ]
  },
  {
   "cell_type": "code",
   "execution_count": 125,
   "metadata": {},
   "outputs": [
    {
     "name": "stdout",
     "output_type": "stream",
     "text": [
      "total 36K\r\n",
      "-rw-rw-r-- 1 aj aj   0 Aug 20 16:02  d\r\n",
      "-rw-rw-r-- 1 aj aj  19 Aug 20 16:03  shakespeare_original.txt\r\n",
      "-rw-rw-r-- 1 aj aj 32K Aug 20 16:08 'Lab 0 - Bash Introduction.ipynb'\r\n"
     ]
    }
   ],
   "source": [
    "!ls -lhtr"
   ]
  },
  {
   "cell_type": "code",
   "execution_count": 126,
   "metadata": {},
   "outputs": [],
   "source": [
    "!mkdir test_dir"
   ]
  },
  {
   "cell_type": "code",
   "execution_count": 128,
   "metadata": {},
   "outputs": [
    {
     "name": "stdout",
     "output_type": "stream",
     "text": [
      "/home/aj/CMS_Research/Teaching/notebooks/test_dir\r\n"
     ]
    }
   ],
   "source": [
    "!cd test_dir; pwd"
   ]
  },
  {
   "cell_type": "code",
   "execution_count": 129,
   "metadata": {},
   "outputs": [
    {
     "name": "stdout",
     "output_type": "stream",
     "text": [
      "/home/aj/CMS_Research/Teaching/notebooks\r\n"
     ]
    }
   ],
   "source": [
    "!pwd"
   ]
  },
  {
   "cell_type": "markdown",
   "metadata": {},
   "source": [
    "# Now you are a master in Bash!"
   ]
  }
 ],
 "metadata": {
  "kernelspec": {
   "display_name": "Python 3",
   "language": "python",
   "name": "python3"
  },
  "language_info": {
   "codemirror_mode": {
    "name": "ipython",
    "version": 3
   },
   "file_extension": ".py",
   "mimetype": "text/x-python",
   "name": "python",
   "nbconvert_exporter": "python",
   "pygments_lexer": "ipython3",
   "version": "3.6.9"
  }
 },
 "nbformat": 4,
 "nbformat_minor": 2
}
